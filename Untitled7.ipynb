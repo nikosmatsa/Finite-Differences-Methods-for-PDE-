{
 "cells": [
  {
   "cell_type": "markdown",
   "metadata": {},
   "source": [
    "$$ u_{t}+2 u_{x} =0 ,$$ for $0\\leq t \\leq 1,$ $0\\leq x \\leq 1 $\n",
    "$$ u(0,x) = u_{0}(x) =  \\begin{cases} \n",
    "      10^4 (0.1-x)^2 (0.2-x)^2 &  0 < x <  0.2 \\\\\n",
    "      0 &  otherwise\n",
    "   \\end{cases}  $$\n",
    "   with wind coefficient $\\alpha = 2 $ , $Nt = 100$ ,$Nx = 250$ resulting to Courant number $v = 0.4$ and additional for $Nt = 100,Nx = 200$ with $v =0.5$"
   ]
  },
  {
   "cell_type": "code",
   "execution_count": 3,
   "metadata": {},
   "outputs": [
    {
     "data": {
      "image/png": "[encoded data removed]",
      "text/plain": [
       "<Figure size 432x288 with 1 Axes>"
      ]
     },
     "metadata": {
      "needs_background": "light"
     },
     "output_type": "display_data"
    },
    {
     "name": "stdout",
     "output_type": "stream",
     "text": [
      "Error L2 =  0.7930337069219751\n"
     ]
    }
   ],
   "source": [
    "#===============================================================\n",
    "# Some libraries\n",
    "#===============================================================\n",
    "\n",
    "import matplotlib.pyplot as plt\n",
    "import numpy as np\n",
    "\n",
    "from matplotlib import rc\n",
    "rc('font', family='serif')\n",
    "rc('lines', linewidth=1.5)\n",
    "rc('font', size=16)\n",
    "plt.rc('legend',**{'fontsize':14})\n",
    "\n",
    "#===============================================================\n",
    "# Some definitions\n",
    "#===============================================================\n",
    "\n",
    "Nx = 101;                         # Number of grid points\n",
    "xmax = 1.;                        # Domain limit to the right\n",
    "xmin = 0.;                        # Domain limit to the left\n",
    "dx = (xmax-xmin)/(Nx-1)           # Mesh size\n",
    "x = np.linspace(xmin,xmax,Nx)     # Discretized mesh\n",
    "dt = 1/250                         # Time step\n",
    "t_end = 0.1                       # Final time\n",
    "Nt = int(t_end/dt)                # Number of iterations\n",
    "t = np.linspace(0.,t_end,Nt+1)    # Time vector\n",
    "a = 2.                            # Advection speed\n",
    "CFL = c*dt/dx                     # CFL number\n",
    "U = np.zeros((Nt+1,Nx))           # u^n_i\n",
    "U[0,:] = np.where( (0.1<x) & (x<0.2) , ((10**4)*(0.1-x)**2 *((0.2-x)**2)),0) # Initial solution\n",
    "Uex = U[0,:]                      # Exact solution\n",
    "\n",
    "\n",
    "#===============================================================\n",
    "# Solve equation using the upwind scheme\n",
    "#===============================================================\n",
    "for n in range (0,Nt):\n",
    "    if (c>0.):\n",
    "        for i in range (1,Nx):\n",
    "            U[n+1,i] = U[n,i] - CFL*(U[n,i]-U[n,i-1]);\n",
    "        U[n+1,0] = U[n+1,Nx-1];\n",
    "    else:\n",
    "        for i in range (0,Nx-1):\n",
    "            U[n+1,i] = U[n,i] - CFL*(U[n,i+1]-U[n,i]);\n",
    "        U[n+1,Nx-1] = U[n,0];\n",
    "\n",
    "        \n",
    "#===============================================================\n",
    "# Compute exact solution\n",
    "#===============================================================\n",
    "\n",
    "Uex = np.where( (x>0.1) & (x<0.2) , ((10**4)*(0.1-x-a*dt)**2 *((0.2-x-a*dt)**2)),0)\n",
    "errL1 = U - Uex\n",
    "errL2 = np.linalg.norm(errL1)\n",
    "  \n",
    "#===============================================================\n",
    "# Plot solution\n",
    "#===============================================================\n",
    "\n",
    "\n",
    "plt.plot(x,U[n+1,:])\n",
    "plt.plot(x,Uex)\n",
    "plt.gca().legend(('Upwind scheme (CFL='+str(CFL)+')','Exact solution'))\n",
    "\n",
    "plt.title('t='+str(dt*(n+1)),fontsize=16)\n",
    "plt.xlabel('x',fontsize=18)\n",
    "plt.ylabel('u',fontsize=18)\n",
    "\n",
    "plt.show()\n",
    "\n",
    "print('Error L2 = ',errL2)\n",
    "\n"
   ]
  },
  {
   "cell_type": "code",
   "execution_count": null,
   "metadata": {},
   "outputs": [],
   "source": []
  }
 ],
 "metadata": {
  "kernelspec": {
   "display_name": "Python 3",
   "language": "python",
   "name": "python3"
  },
  "language_info": {
   "codemirror_mode": {
    "name": "ipython",
    "version": 3
   },
   "file_extension": ".py",
   "mimetype": "text/x-python",
   "name": "python",
   "nbconvert_exporter": "python",
   "pygments_lexer": "ipython3",
   "version": "3.8.3"
  }
 },
 "nbformat": 4,
 "nbformat_minor": 4
}
