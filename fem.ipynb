{
 "cells": [
  {
   "cell_type": "markdown",
   "metadata": {},
   "source": [
    "$$-\\Delta u = 100 \\sin(\\pi x)$$ in $\\Omega$ with $u = 0$ on $\\partial \\Omega$"
   ]
  },
  {
   "cell_type": "code",
   "execution_count": 1,
   "metadata": {},
   "outputs": [],
   "source": [
    "import numpy as np\n",
    "from skfem import LinearForm\n",
    "@LinearForm\n",
    "def loading(v, w):\n",
    "    return(100*np.sin(np.pi * w.x[0]) * v)"
   ]
  },
  {
   "cell_type": "code",
   "execution_count": 2,
   "metadata": {},
   "outputs": [
    {
     "name": "stdout",
     "output_type": "stream",
     "text": [
      "Skipping PyAMG\n",
      "Skipping pyamgcl\n",
      "51.53943016037791\n",
      "79.58124646858306\n",
      "94.11287254418697\n",
      "101.92455617160694\n",
      "107.23760227412303\n",
      "110.08851830474401\n",
      "111.69549272892144\n",
      "112.36154806359076\n",
      "112.57482813548702\n",
      "112.61341668225431\n",
      "112.62182126040526\n",
      "112.6261105325878\n",
      "112.6273894977482\n",
      "112.62770040700805\n",
      "112.62778466087978\n",
      "112.62779881133666\n",
      "112.62780154504179\n",
      "112.62780179913209\n",
      "112.62780181794989\n",
      "cg converged to tol=default and atol=default\n",
      "111.71252387758108\n",
      "112.7862586662018\n",
      "112.64502452791247\n",
      "112.62811729326103\n",
      "112.62769118718157\n",
      "cg converged to tol=default and atol=default\n"
     ]
    }
   ],
   "source": [
    "from skfem import *\n",
    "from skfem.models.poisson import *\n",
    "import numpy as np\n",
    "from scipy.sparse import spmatrix\n",
    "from scipy.sparse.linalg import LinearOperator\n",
    "\n",
    "p = np.linspace(0, 1, 16)\n",
    "m = MeshTet.init_tensor(*(p,) * 3)\n",
    "\n",
    "e = ElementTetP1()\n",
    "basis = InteriorBasis(m, e)\n",
    "\n",
    "A = asm(laplace, basis)\n",
    "b = asm(loading, basis)\n",
    "\n",
    "I = m.interior_nodes()\n",
    "\n",
    "x = 0. * b\n",
    "\n",
    "if __name__ == \"__main__\":\n",
    "    verbose = True\n",
    "else:\n",
    "    verbose = False\n",
    "\n",
    "Aint, bint = condense(A, b, I=I, expand=False)\n",
    "\n",
    "preconditioners = [None, build_pc_ilu(Aint, drop_tol=1e-3)]\n",
    "\n",
    "try:\n",
    "    from pyamg import smoothed_aggregation_solver\n",
    "\n",
    "    def build_pc_amgsa(A: spmatrix, **kwargs) -> LinearOperator:\n",
    "        \"\"\"AMG (smoothed aggregation) preconditioner\"\"\"\n",
    "        return smoothed_aggregation_solver(A, **kwargs).aspreconditioner()\n",
    "\n",
    "    preconditioners.append(build_pc_amgsa(Aint))\n",
    "\n",
    "except ImportError:\n",
    "    print('Skipping PyAMG')\n",
    "\n",
    "try:\n",
    "    import pyamgcl\n",
    "\n",
    "    def build_pc_amgcl(A: spmatrix, **kwargs) -> LinearOperator:\n",
    "        \"\"\"AMG preconditioner\"\"\"\n",
    "\n",
    "        if hasattr(pyamgcl, 'amgcl'):  # v. 1.3.99+\n",
    "            return pyamgcl.amgcl(A, **kwargs)\n",
    "        else:\n",
    "            return pyamgcl.amg(A, **kwargs)\n",
    "\n",
    "    preconditioners.append(build_pc_amgcl(Aint))\n",
    "\n",
    "except ImportError:\n",
    "    print('Skipping pyamgcl')\n",
    "\n",
    "for pc in preconditioners:\n",
    "    x[I] = solve(Aint, bint, solver=solver_iter_pcg(verbose=verbose, M=pc))\n",
    "\n",
    "\n",
    "if verbose:\n",
    "    from os.path import splitext\n",
    "    from sys import argv\n",
    "\n",
    "    m.save(splitext(argv[0])[0] + \".vtk\", {'potential': x})"
   ]
  },
  {
   "cell_type": "code",
   "execution_count": null,
   "metadata": {},
   "outputs": [],
   "source": []
  }
 ],
 "metadata": {
  "kernelspec": {
   "display_name": "Python 3",
   "language": "python",
   "name": "python3"
  },
  "language_info": {
   "codemirror_mode": {
    "name": "ipython",
    "version": 3
   },
   "file_extension": ".py",
   "mimetype": "text/x-python",
   "name": "python",
   "nbconvert_exporter": "python",
   "pygments_lexer": "ipython3",
   "version": "3.8.3"
  }
 },
 "nbformat": 4,
 "nbformat_minor": 4
}
